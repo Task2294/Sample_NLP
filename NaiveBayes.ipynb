{
 "cells": [
  {
   "cell_type": "markdown",
   "metadata": {
    "colab_type": "text",
    "id": "G3tB1yhkkD0t"
   },
   "source": [
    "**DATA CRAWLING**"
   ]
  },
  {
   "cell_type": "code",
   "execution_count": 1,
   "metadata": {
    "colab": {
     "base_uri": "https://localhost:8080/",
     "height": 51
    },
    "colab_type": "code",
    "id": "MLvOSIL3j3-9",
    "outputId": "edfa8f16-8af7-4f20-9ddb-a1d9f91981d4"
   },
   "outputs": [
    {
     "name": "stdout",
     "output_type": "stream",
     "text": [
      "282\n",
      "282\n"
     ]
    }
   ],
   "source": [
    "import bs4\n",
    "import requests\n",
    "from bs4 import BeautifulSoup\n",
    "no=0\n",
    "stars=[]\n",
    "rev =[]\n",
    "dic ={}\n",
    "page = \"https://www.yelp.com/biz/sf-fire-credit-union-san-francisco\"\n",
    "\n",
    "\n",
    "for i in range(15):\n",
    "\turl= page + \"?start=\" + str(no)\n",
    "\tno +=20\n",
    "\n",
    "\tres = requests.get(url)\n",
    "\n",
    "\tbs = BeautifulSoup(res.text,\"html.parser\")\n",
    "\treviews = bs.findAll('div',{'class':'review-content'})\n",
    "\n",
    "\tfor review in reviews:\n",
    "\t\tstars.append(review.findAll('div',{'class':'i-stars'}))\n",
    "\n",
    "\tfor review in reviews:\n",
    "\t\tfor j in review.findAll('p'):\n",
    "\t\t\trev.append(j.text)\n",
    "\n",
    "\n",
    "print(len(rev))\n",
    "print(len(stars))"
   ]
  },
  {
   "cell_type": "code",
   "execution_count": 3,
   "metadata": {
    "colab": {},
    "colab_type": "code",
    "id": "wnmURFTnVmKf"
   },
   "outputs": [],
   "source": [
    "#Extracting number of stars\n",
    "rat=[]\n",
    "for i in range(len(stars)):\n",
    "  rat.append((float)(stars[i][0]['title'][0:3]))"
   ]
  },
  {
   "cell_type": "code",
   "execution_count": 4,
   "metadata": {},
   "outputs": [],
   "source": [
    "dic={}\n",
    "for i in range(len(stars)):\n",
    "    dic[rev[i]]=rat[i]"
   ]
  },
  {
   "cell_type": "markdown",
   "metadata": {},
   "source": [
    "## Creating DataFrame"
   ]
  },
  {
   "cell_type": "code",
   "execution_count": 6,
   "metadata": {
    "colab": {},
    "colab_type": "code",
    "id": "FzB5W8dvWZFA"
   },
   "outputs": [],
   "source": [
    "import pandas as pd"
   ]
  },
  {
   "cell_type": "code",
   "execution_count": 7,
   "metadata": {
    "colab": {
     "base_uri": "https://localhost:8080/",
     "height": 49
    },
    "colab_type": "code",
    "id": "uwhJfiuxXMgq",
    "outputId": "577a6f47-7096-42a7-fbdb-dd31355fb3e4"
   },
   "outputs": [
    {
     "data": {
      "text/html": [
       "<div>\n",
       "<style scoped>\n",
       "    .dataframe tbody tr th:only-of-type {\n",
       "        vertical-align: middle;\n",
       "    }\n",
       "\n",
       "    .dataframe tbody tr th {\n",
       "        vertical-align: top;\n",
       "    }\n",
       "\n",
       "    .dataframe thead th {\n",
       "        text-align: right;\n",
       "    }\n",
       "</style>\n",
       "<table border=\"1\" class=\"dataframe\">\n",
       "  <thead>\n",
       "    <tr style=\"text-align: right;\">\n",
       "      <th></th>\n",
       "      <th>review</th>\n",
       "      <th>rating</th>\n",
       "    </tr>\n",
       "  </thead>\n",
       "  <tbody>\n",
       "    <tr>\n",
       "      <th>0</th>\n",
       "      <td>I would like to give a shout out to sf fire cr...</td>\n",
       "      <td>5.0</td>\n",
       "    </tr>\n",
       "    <tr>\n",
       "      <th>1</th>\n",
       "      <td>Poor  me , futures commission merchants muddyO...</td>\n",
       "      <td>3.0</td>\n",
       "    </tr>\n",
       "    <tr>\n",
       "      <th>2</th>\n",
       "      <td>They will charge you a $25 \"courtesy fee\" if y...</td>\n",
       "      <td>1.0</td>\n",
       "    </tr>\n",
       "    <tr>\n",
       "      <th>3</th>\n",
       "      <td>I changed to a credit union because I wanted t...</td>\n",
       "      <td>1.0</td>\n",
       "    </tr>\n",
       "    <tr>\n",
       "      <th>4</th>\n",
       "      <td>I used to recommend SFFire to my friends (and ...</td>\n",
       "      <td>2.0</td>\n",
       "    </tr>\n",
       "  </tbody>\n",
       "</table>\n",
       "</div>"
      ],
      "text/plain": [
       "                                              review  rating\n",
       "0  I would like to give a shout out to sf fire cr...     5.0\n",
       "1  Poor  me , futures commission merchants muddyO...     3.0\n",
       "2  They will charge you a $25 \"courtesy fee\" if y...     1.0\n",
       "3  I changed to a credit union because I wanted t...     1.0\n",
       "4  I used to recommend SFFire to my friends (and ...     2.0"
      ]
     },
     "execution_count": 7,
     "metadata": {},
     "output_type": "execute_result"
    }
   ],
   "source": [
    "data = pd.DataFrame({\"review\":rev,\"rating\":rat},columns=[\"review\",\"rating\"])\n",
    "data.head()"
   ]
  },
  {
   "cell_type": "code",
   "execution_count": 8,
   "metadata": {
    "colab": {},
    "colab_type": "code",
    "id": "to8zPcuznMSd"
   },
   "outputs": [],
   "source": [
    "#converting ratings float to int. because floating points of all values are zero\n",
    "data[\"rating\"] = data[\"rating\"].apply(lambda x : (int)(x))"
   ]
  },
  {
   "cell_type": "code",
   "execution_count": 9,
   "metadata": {},
   "outputs": [],
   "source": [
    "data.to_csv(\"reviews.csv\")"
   ]
  },
  {
   "cell_type": "markdown",
   "metadata": {},
   "source": [
    "# DATA PREPROCESSING"
   ]
  },
  {
   "cell_type": "markdown",
   "metadata": {},
   "source": [
    "## Removing punctuations"
   ]
  },
  {
   "cell_type": "code",
   "execution_count": 26,
   "metadata": {
    "colab": {},
    "colab_type": "code",
    "id": "nEcceu7co96s"
   },
   "outputs": [],
   "source": [
    "import string\n",
    "def remove_punctuation(s):\n",
    "    s = ''.join([i for i in s if i not in frozenset(string.punctuation)])\n",
    "    return s"
   ]
  },
  {
   "cell_type": "code",
   "execution_count": 27,
   "metadata": {
    "colab": {},
    "colab_type": "code",
    "id": "BxTIqnaysb1Y"
   },
   "outputs": [],
   "source": [
    "#removing punctuation marks in dataset\n",
    "data['review'] = data['review'].apply(remove_punctuation)"
   ]
  },
  {
   "cell_type": "code",
   "execution_count": 28,
   "metadata": {
    "colab": {
     "base_uri": "https://localhost:8080/",
     "height": 68
    },
    "colab_type": "code",
    "id": "zHtftzt_sqPt",
    "outputId": "408211e5-9d1d-4de4-efc1-e6e18c1b89d8"
   },
   "outputs": [
    {
     "data": {
      "text/plain": [
       "review    0\n",
       "rating    0\n",
       "dtype: int64"
      ]
     },
     "execution_count": 28,
     "metadata": {},
     "output_type": "execute_result"
    }
   ],
   "source": [
    "#no null values\n",
    "data.isnull().sum()"
   ]
  },
  {
   "cell_type": "code",
   "execution_count": 29,
   "metadata": {
    "colab": {
     "base_uri": "https://localhost:8080/",
     "height": 49
    },
    "colab_type": "code",
    "id": "pq__Mc4Ati9O",
    "outputId": "d5391d41-8c40-477c-b4a6-b2552ca6dfb9"
   },
   "outputs": [
    {
     "data": {
      "text/html": [
       "<div>\n",
       "<style scoped>\n",
       "    .dataframe tbody tr th:only-of-type {\n",
       "        vertical-align: middle;\n",
       "    }\n",
       "\n",
       "    .dataframe tbody tr th {\n",
       "        vertical-align: top;\n",
       "    }\n",
       "\n",
       "    .dataframe thead th {\n",
       "        text-align: right;\n",
       "    }\n",
       "</style>\n",
       "<table border=\"1\" class=\"dataframe\">\n",
       "  <thead>\n",
       "    <tr style=\"text-align: right;\">\n",
       "      <th></th>\n",
       "      <th>review</th>\n",
       "      <th>rating</th>\n",
       "    </tr>\n",
       "  </thead>\n",
       "  <tbody>\n",
       "    <tr>\n",
       "      <th>0</th>\n",
       "      <td>I would like to give a shout out to sf fire cr...</td>\n",
       "      <td>5</td>\n",
       "    </tr>\n",
       "    <tr>\n",
       "      <th>1</th>\n",
       "      <td>Poor  me  futures commission merchants muddyOu...</td>\n",
       "      <td>3</td>\n",
       "    </tr>\n",
       "    <tr>\n",
       "      <th>2</th>\n",
       "      <td>They will charge you a 25 courtesy fee if you ...</td>\n",
       "      <td>1</td>\n",
       "    </tr>\n",
       "    <tr>\n",
       "      <th>3</th>\n",
       "      <td>I changed to a credit union because I wanted t...</td>\n",
       "      <td>1</td>\n",
       "    </tr>\n",
       "    <tr>\n",
       "      <th>4</th>\n",
       "      <td>I used to recommend SFFire to my friends and g...</td>\n",
       "      <td>2</td>\n",
       "    </tr>\n",
       "  </tbody>\n",
       "</table>\n",
       "</div>"
      ],
      "text/plain": [
       "                                              review  rating\n",
       "0  I would like to give a shout out to sf fire cr...       5\n",
       "1  Poor  me  futures commission merchants muddyOu...       3\n",
       "2  They will charge you a 25 courtesy fee if you ...       1\n",
       "3  I changed to a credit union because I wanted t...       1\n",
       "4  I used to recommend SFFire to my friends and g...       2"
      ]
     },
     "execution_count": 29,
     "metadata": {},
     "output_type": "execute_result"
    }
   ],
   "source": [
    "data.head()"
   ]
  },
  {
   "cell_type": "markdown",
   "metadata": {},
   "source": [
    "## Removing Stopwords"
   ]
  },
  {
   "cell_type": "code",
   "execution_count": 30,
   "metadata": {
    "colab": {
     "base_uri": "https://localhost:8080/",
     "height": 68
    },
    "colab_type": "code",
    "id": "IRsw6-82uUTa",
    "outputId": "14bd86d3-602c-4a0a-a9ef-0ab297a7101b"
   },
   "outputs": [
    {
     "name": "stdout",
     "output_type": "stream",
     "text": [
      "[nltk_data] Downloading package stopwords to /home/skull/nltk_data...\n",
      "[nltk_data]   Package stopwords is already up-to-date!\n"
     ]
    },
    {
     "data": {
      "text/plain": [
       "True"
      ]
     },
     "execution_count": 30,
     "metadata": {},
     "output_type": "execute_result"
    }
   ],
   "source": [
    "import nltk\n",
    "nltk.download(\"stopwords\")"
   ]
  },
  {
   "cell_type": "code",
   "execution_count": 31,
   "metadata": {
    "colab": {},
    "colab_type": "code",
    "id": "8a2yW5WWucbE"
   },
   "outputs": [],
   "source": [
    "# Import stopwords with nltk.\n",
    "from nltk.corpus import stopwords\n",
    "stop = stopwords.words('english')"
   ]
  },
  {
   "cell_type": "code",
   "execution_count": 32,
   "metadata": {
    "colab": {},
    "colab_type": "code",
    "id": "VaKAlFLyu8fc"
   },
   "outputs": [],
   "source": [
    "#removing stopwords\n",
    "data['review'] = data['review'].apply(lambda x: ' '.join([word for word in x.split() if word not in (stop)]))\n"
   ]
  },
  {
   "cell_type": "code",
   "execution_count": 33,
   "metadata": {
    "colab": {
     "base_uri": "https://localhost:8080/",
     "height": 49
    },
    "colab_type": "code",
    "id": "hhI0AN5LvTDz",
    "outputId": "4f33e008-4413-429b-ec0d-3ea58ff9e34f"
   },
   "outputs": [
    {
     "data": {
      "text/html": [
       "<div>\n",
       "<style scoped>\n",
       "    .dataframe tbody tr th:only-of-type {\n",
       "        vertical-align: middle;\n",
       "    }\n",
       "\n",
       "    .dataframe tbody tr th {\n",
       "        vertical-align: top;\n",
       "    }\n",
       "\n",
       "    .dataframe thead th {\n",
       "        text-align: right;\n",
       "    }\n",
       "</style>\n",
       "<table border=\"1\" class=\"dataframe\">\n",
       "  <thead>\n",
       "    <tr style=\"text-align: right;\">\n",
       "      <th></th>\n",
       "      <th>review</th>\n",
       "      <th>rating</th>\n",
       "    </tr>\n",
       "  </thead>\n",
       "  <tbody>\n",
       "    <tr>\n",
       "      <th>0</th>\n",
       "      <td>I would like give shout sf fire credit union n...</td>\n",
       "      <td>5</td>\n",
       "    </tr>\n",
       "    <tr>\n",
       "      <th>1</th>\n",
       "      <td>Poor futures commission merchants muddyOuter s...</td>\n",
       "      <td>3</td>\n",
       "    </tr>\n",
       "    <tr>\n",
       "      <th>2</th>\n",
       "      <td>They charge 25 courtesy fee go balance Not fir...</td>\n",
       "      <td>1</td>\n",
       "    </tr>\n",
       "    <tr>\n",
       "      <th>3</th>\n",
       "      <td>I changed credit union I wanted support local ...</td>\n",
       "      <td>1</td>\n",
       "    </tr>\n",
       "    <tr>\n",
       "      <th>4</th>\n",
       "      <td>I used recommend SFFire friends got several jo...</td>\n",
       "      <td>2</td>\n",
       "    </tr>\n",
       "  </tbody>\n",
       "</table>\n",
       "</div>"
      ],
      "text/plain": [
       "                                              review  rating\n",
       "0  I would like give shout sf fire credit union n...       5\n",
       "1  Poor futures commission merchants muddyOuter s...       3\n",
       "2  They charge 25 courtesy fee go balance Not fir...       1\n",
       "3  I changed credit union I wanted support local ...       1\n",
       "4  I used recommend SFFire friends got several jo...       2"
      ]
     },
     "execution_count": 33,
     "metadata": {},
     "output_type": "execute_result"
    }
   ],
   "source": [
    "data.head()"
   ]
  },
  {
   "cell_type": "markdown",
   "metadata": {},
   "source": [
    "## Converting Everything to lowercase"
   ]
  },
  {
   "cell_type": "code",
   "execution_count": 34,
   "metadata": {
    "colab": {},
    "colab_type": "code",
    "id": "8mw3556DvUlg"
   },
   "outputs": [],
   "source": [
    "#converting everythin to lowercase\n",
    "data['review'] = data['review'].apply(lambda x: x.lower())\n"
   ]
  },
  {
   "cell_type": "code",
   "execution_count": 35,
   "metadata": {
    "colab": {
     "base_uri": "https://localhost:8080/",
     "height": 49
    },
    "colab_type": "code",
    "id": "9jLAEOQzv7Cl",
    "outputId": "ad600e5d-dbbf-41e7-9eb8-0b74ceeefa89"
   },
   "outputs": [
    {
     "data": {
      "text/html": [
       "<div>\n",
       "<style scoped>\n",
       "    .dataframe tbody tr th:only-of-type {\n",
       "        vertical-align: middle;\n",
       "    }\n",
       "\n",
       "    .dataframe tbody tr th {\n",
       "        vertical-align: top;\n",
       "    }\n",
       "\n",
       "    .dataframe thead th {\n",
       "        text-align: right;\n",
       "    }\n",
       "</style>\n",
       "<table border=\"1\" class=\"dataframe\">\n",
       "  <thead>\n",
       "    <tr style=\"text-align: right;\">\n",
       "      <th></th>\n",
       "      <th>review</th>\n",
       "      <th>rating</th>\n",
       "    </tr>\n",
       "  </thead>\n",
       "  <tbody>\n",
       "    <tr>\n",
       "      <th>0</th>\n",
       "      <td>i would like give shout sf fire credit union n...</td>\n",
       "      <td>5</td>\n",
       "    </tr>\n",
       "    <tr>\n",
       "      <th>1</th>\n",
       "      <td>poor futures commission merchants muddyouter s...</td>\n",
       "      <td>3</td>\n",
       "    </tr>\n",
       "    <tr>\n",
       "      <th>2</th>\n",
       "      <td>they charge 25 courtesy fee go balance not fir...</td>\n",
       "      <td>1</td>\n",
       "    </tr>\n",
       "    <tr>\n",
       "      <th>3</th>\n",
       "      <td>i changed credit union i wanted support local ...</td>\n",
       "      <td>1</td>\n",
       "    </tr>\n",
       "    <tr>\n",
       "      <th>4</th>\n",
       "      <td>i used recommend sffire friends got several jo...</td>\n",
       "      <td>2</td>\n",
       "    </tr>\n",
       "  </tbody>\n",
       "</table>\n",
       "</div>"
      ],
      "text/plain": [
       "                                              review  rating\n",
       "0  i would like give shout sf fire credit union n...       5\n",
       "1  poor futures commission merchants muddyouter s...       3\n",
       "2  they charge 25 courtesy fee go balance not fir...       1\n",
       "3  i changed credit union i wanted support local ...       1\n",
       "4  i used recommend sffire friends got several jo...       2"
      ]
     },
     "execution_count": 35,
     "metadata": {},
     "output_type": "execute_result"
    }
   ],
   "source": [
    "data.head()"
   ]
  },
  {
   "cell_type": "markdown",
   "metadata": {},
   "source": [
    "## Replacing negative words with proper words"
   ]
  },
  {
   "cell_type": "code",
   "execution_count": 36,
   "metadata": {
    "colab": {},
    "colab_type": "code",
    "id": "xvnBSs4Iv_cq"
   },
   "outputs": [],
   "source": [
    "#Negation handling\n",
    "def negitive(s):\n",
    "    appos = {\n",
    "    \"aren't\" : \"are not\",\n",
    "    \"can't\" : \"cannot\",\n",
    "    \"couldn't\" : \"could not\",\n",
    "    \"didn't\" : \"did not\",\n",
    "    \"doesn't\" : \"does not\",\n",
    "    \"don't\" : \"do not\",\n",
    "    \"hadn't\" : \"had not\",\n",
    "    \"hasn't\" : \"has not\",\n",
    "    \"haven't\" : \"have not\",\n",
    "    \"he'd\" : \"he would\",\n",
    "    \"he'll\" : \"he will\",\n",
    "    \"he's\" : \"he is\",\n",
    "    \"i'd\" : \"I would\",\n",
    "    \"i'd\" : \"I had\",\n",
    "    \"i'll\" : \"I will\",\n",
    "    \"i'm\" : \"I am\",\n",
    "    \"isn't\" : \"is not\",\n",
    "    \"it's\" : \"it is\",\n",
    "    \"it'll\":\"it will\",\n",
    "    \"i've\" : \"I have\",\n",
    "    \"let's\" : \"let us\",\n",
    "    \"mightn't\" : \"might not\",\n",
    "    \"mustn't\" : \"must not\",\n",
    "    \"shan't\" : \"shall not\",\n",
    "    \"she'd\" : \"she would\",\n",
    "    \"she'll\" : \"she will\",\n",
    "    \"she's\" : \"she is\",\n",
    "    \"shouldn't\" : \"should not\",\n",
    "    \"that's\" : \"that is\",\n",
    "    \"there's\" : \"there is\",\n",
    "    \"they'd\" : \"they would\",\n",
    "    \"they'll\" : \"they will\",\n",
    "    \"they're\" : \"they are\",\n",
    "    \"they've\" : \"they have\",\n",
    "    \"we'd\" : \"we would\",\n",
    "    \"we're\" : \"we are\",\n",
    "    \"weren't\" : \"were not\",\n",
    "    \"we've\" : \"we have\",\n",
    "    \"what'll\" : \"what will\",\n",
    "    \"what're\" : \"what are\",\n",
    "    \"what's\" : \"what is\",\n",
    "    \"what've\" : \"what have\",\n",
    "    \"where's\" : \"where is\",\n",
    "    \"who'd\" : \"who would\",\n",
    "    \"who'll\" : \"who will\",\n",
    "    \"who're\" : \"who are\",\n",
    "    \"who's\" : \"who is\",\n",
    "    \"who've\" : \"who have\",\n",
    "    \"won't\" : \"will not\",\n",
    "    \"wouldn't\" : \"would not\",\n",
    "    \"you'd\" : \"you would\",\n",
    "    \"you'll\" : \"you will\",\n",
    "    \"you're\" : \"you are\",\n",
    "    \"you've\" : \"you have\",\n",
    "    \"'re\": \" are\",\n",
    "    \"wasn't\": \"was not\",\n",
    "    \"we'll\":\" will\",\n",
    "    \"didn't\": \"did not\"\n",
    "    }\n",
    "\n",
    "    words = s.split()\n",
    "    reformed = [appos[word] if word in appos else word for word in words]\n",
    "    reformed = \" \".join(reformed) \n",
    "    return reformed\n"
   ]
  },
  {
   "cell_type": "code",
   "execution_count": 37,
   "metadata": {},
   "outputs": [
    {
     "data": {
      "text/plain": [
       "'hi i have not'"
      ]
     },
     "execution_count": 37,
     "metadata": {},
     "output_type": "execute_result"
    }
   ],
   "source": [
    "negitive(\"hi i haven't\")"
   ]
  },
  {
   "cell_type": "code",
   "execution_count": 38,
   "metadata": {},
   "outputs": [],
   "source": [
    "data[\"review\"] = data[\"review\"].apply(negitive)"
   ]
  },
  {
   "cell_type": "code",
   "execution_count": 39,
   "metadata": {},
   "outputs": [
    {
     "data": {
      "text/html": [
       "<div>\n",
       "<style scoped>\n",
       "    .dataframe tbody tr th:only-of-type {\n",
       "        vertical-align: middle;\n",
       "    }\n",
       "\n",
       "    .dataframe tbody tr th {\n",
       "        vertical-align: top;\n",
       "    }\n",
       "\n",
       "    .dataframe thead th {\n",
       "        text-align: right;\n",
       "    }\n",
       "</style>\n",
       "<table border=\"1\" class=\"dataframe\">\n",
       "  <thead>\n",
       "    <tr style=\"text-align: right;\">\n",
       "      <th></th>\n",
       "      <th>review</th>\n",
       "      <th>rating</th>\n",
       "    </tr>\n",
       "  </thead>\n",
       "  <tbody>\n",
       "    <tr>\n",
       "      <th>0</th>\n",
       "      <td>i would like give shout sf fire credit union n...</td>\n",
       "      <td>5</td>\n",
       "    </tr>\n",
       "    <tr>\n",
       "      <th>1</th>\n",
       "      <td>poor futures commission merchants muddyouter s...</td>\n",
       "      <td>3</td>\n",
       "    </tr>\n",
       "    <tr>\n",
       "      <th>2</th>\n",
       "      <td>they charge 25 courtesy fee go balance not fir...</td>\n",
       "      <td>1</td>\n",
       "    </tr>\n",
       "    <tr>\n",
       "      <th>3</th>\n",
       "      <td>i changed credit union i wanted support local ...</td>\n",
       "      <td>1</td>\n",
       "    </tr>\n",
       "    <tr>\n",
       "      <th>4</th>\n",
       "      <td>i used recommend sffire friends got several jo...</td>\n",
       "      <td>2</td>\n",
       "    </tr>\n",
       "  </tbody>\n",
       "</table>\n",
       "</div>"
      ],
      "text/plain": [
       "                                              review  rating\n",
       "0  i would like give shout sf fire credit union n...       5\n",
       "1  poor futures commission merchants muddyouter s...       3\n",
       "2  they charge 25 courtesy fee go balance not fir...       1\n",
       "3  i changed credit union i wanted support local ...       1\n",
       "4  i used recommend sffire friends got several jo...       2"
      ]
     },
     "execution_count": 39,
     "metadata": {},
     "output_type": "execute_result"
    }
   ],
   "source": [
    "data.head()"
   ]
  },
  {
   "cell_type": "markdown",
   "metadata": {},
   "source": [
    "## Lemmatization"
   ]
  },
  {
   "cell_type": "code",
   "execution_count": 40,
   "metadata": {},
   "outputs": [],
   "source": [
    "#lemmatization\n",
    "w_tokenizer = nltk.tokenize.WhitespaceTokenizer()\n",
    "lemmatizer = nltk.stem.WordNetLemmatizer()"
   ]
  },
  {
   "cell_type": "code",
   "execution_count": 41,
   "metadata": {},
   "outputs": [],
   "source": [
    "def lemmatize_text(text):\n",
    "    return (' '.join(lemmatizer.lemmatize(w) for w in w_tokenizer.tokenize(text)))"
   ]
  },
  {
   "cell_type": "code",
   "execution_count": 42,
   "metadata": {},
   "outputs": [],
   "source": [
    "data['review'] = data[\"review\"].apply(lemmatize_text)"
   ]
  },
  {
   "cell_type": "code",
   "execution_count": 43,
   "metadata": {
    "scrolled": true
   },
   "outputs": [
    {
     "data": {
      "text/html": [
       "<div>\n",
       "<style scoped>\n",
       "    .dataframe tbody tr th:only-of-type {\n",
       "        vertical-align: middle;\n",
       "    }\n",
       "\n",
       "    .dataframe tbody tr th {\n",
       "        vertical-align: top;\n",
       "    }\n",
       "\n",
       "    .dataframe thead th {\n",
       "        text-align: right;\n",
       "    }\n",
       "</style>\n",
       "<table border=\"1\" class=\"dataframe\">\n",
       "  <thead>\n",
       "    <tr style=\"text-align: right;\">\n",
       "      <th></th>\n",
       "      <th>review</th>\n",
       "      <th>rating</th>\n",
       "    </tr>\n",
       "  </thead>\n",
       "  <tbody>\n",
       "    <tr>\n",
       "      <th>0</th>\n",
       "      <td>i would like give shout sf fire credit union n...</td>\n",
       "      <td>5</td>\n",
       "    </tr>\n",
       "    <tr>\n",
       "      <th>1</th>\n",
       "      <td>poor future commission merchant muddyouter spa...</td>\n",
       "      <td>3</td>\n",
       "    </tr>\n",
       "    <tr>\n",
       "      <th>2</th>\n",
       "      <td>they charge 25 courtesy fee go balance not fir...</td>\n",
       "      <td>1</td>\n",
       "    </tr>\n",
       "    <tr>\n",
       "      <th>3</th>\n",
       "      <td>i changed credit union i wanted support local ...</td>\n",
       "      <td>1</td>\n",
       "    </tr>\n",
       "    <tr>\n",
       "      <th>4</th>\n",
       "      <td>i used recommend sffire friend got several joi...</td>\n",
       "      <td>2</td>\n",
       "    </tr>\n",
       "  </tbody>\n",
       "</table>\n",
       "</div>"
      ],
      "text/plain": [
       "                                              review  rating\n",
       "0  i would like give shout sf fire credit union n...       5\n",
       "1  poor future commission merchant muddyouter spa...       3\n",
       "2  they charge 25 courtesy fee go balance not fir...       1\n",
       "3  i changed credit union i wanted support local ...       1\n",
       "4  i used recommend sffire friend got several joi...       2"
      ]
     },
     "execution_count": 43,
     "metadata": {},
     "output_type": "execute_result"
    }
   ],
   "source": [
    "data.head()"
   ]
  },
  {
   "cell_type": "code",
   "execution_count": 44,
   "metadata": {},
   "outputs": [],
   "source": [
    "data.to_csv(\"final_data.csv\")"
   ]
  },
  {
   "cell_type": "markdown",
   "metadata": {},
   "source": [
    "# EDA"
   ]
  },
  {
   "cell_type": "markdown",
   "metadata": {},
   "source": [
    "## WORD COUNT"
   ]
  },
  {
   "cell_type": "code",
   "execution_count": 6,
   "metadata": {},
   "outputs": [],
   "source": [
    "import pandas as pd\n",
    "data = pd.read_csv(\"final_data.csv\",index_col=0)"
   ]
  },
  {
   "cell_type": "code",
   "execution_count": 15,
   "metadata": {
    "scrolled": true
   },
   "outputs": [
    {
     "data": {
      "text/html": [
       "<div>\n",
       "<style scoped>\n",
       "    .dataframe tbody tr th:only-of-type {\n",
       "        vertical-align: middle;\n",
       "    }\n",
       "\n",
       "    .dataframe tbody tr th {\n",
       "        vertical-align: top;\n",
       "    }\n",
       "\n",
       "    .dataframe thead th {\n",
       "        text-align: right;\n",
       "    }\n",
       "</style>\n",
       "<table border=\"1\" class=\"dataframe\">\n",
       "  <thead>\n",
       "    <tr style=\"text-align: right;\">\n",
       "      <th></th>\n",
       "      <th>review</th>\n",
       "      <th>word_count</th>\n",
       "    </tr>\n",
       "  </thead>\n",
       "  <tbody>\n",
       "    <tr>\n",
       "      <th>0</th>\n",
       "      <td>i would like give shout sf fire credit union n...</td>\n",
       "      <td>100</td>\n",
       "    </tr>\n",
       "    <tr>\n",
       "      <th>1</th>\n",
       "      <td>poor future commission merchant muddyouter spa...</td>\n",
       "      <td>167</td>\n",
       "    </tr>\n",
       "    <tr>\n",
       "      <th>2</th>\n",
       "      <td>they charge 25 courtesy fee go balance not fir...</td>\n",
       "      <td>44</td>\n",
       "    </tr>\n",
       "    <tr>\n",
       "      <th>3</th>\n",
       "      <td>i changed credit union i wanted support local ...</td>\n",
       "      <td>48</td>\n",
       "    </tr>\n",
       "    <tr>\n",
       "      <th>4</th>\n",
       "      <td>i used recommend sffire friend got several joi...</td>\n",
       "      <td>49</td>\n",
       "    </tr>\n",
       "    <tr>\n",
       "      <th>5</th>\n",
       "      <td>i credit union 25 year unfortunately recent ye...</td>\n",
       "      <td>64</td>\n",
       "    </tr>\n",
       "    <tr>\n",
       "      <th>6</th>\n",
       "      <td>i banking sffcu 20 year past couple year servi...</td>\n",
       "      <td>92</td>\n",
       "    </tr>\n",
       "    <tr>\n",
       "      <th>7</th>\n",
       "      <td>used really really good now left hand doesnt k...</td>\n",
       "      <td>34</td>\n",
       "    </tr>\n",
       "    <tr>\n",
       "      <th>8</th>\n",
       "      <td>red flagif use half credit close credit little...</td>\n",
       "      <td>9</td>\n",
       "    </tr>\n",
       "    <tr>\n",
       "      <th>9</th>\n",
       "      <td>what follows verbatim feedback i sent manageme...</td>\n",
       "      <td>194</td>\n",
       "    </tr>\n",
       "  </tbody>\n",
       "</table>\n",
       "</div>"
      ],
      "text/plain": [
       "                                              review  word_count\n",
       "0  i would like give shout sf fire credit union n...         100\n",
       "1  poor future commission merchant muddyouter spa...         167\n",
       "2  they charge 25 courtesy fee go balance not fir...          44\n",
       "3  i changed credit union i wanted support local ...          48\n",
       "4  i used recommend sffire friend got several joi...          49\n",
       "5  i credit union 25 year unfortunately recent ye...          64\n",
       "6  i banking sffcu 20 year past couple year servi...          92\n",
       "7  used really really good now left hand doesnt k...          34\n",
       "8  red flagif use half credit close credit little...           9\n",
       "9  what follows verbatim feedback i sent manageme...         194"
      ]
     },
     "execution_count": 15,
     "metadata": {},
     "output_type": "execute_result"
    }
   ],
   "source": [
    "data['word_count'] = data['review'].apply(lambda x: len(str(x).split(\" \")))\n",
    "data[['review','word_count']].head(10)"
   ]
  },
  {
   "cell_type": "code",
   "execution_count": 23,
   "metadata": {},
   "outputs": [
    {
     "name": "stderr",
     "output_type": "stream",
     "text": [
      "/home/skull/anaconda3/lib/python3.6/site-packages/matplotlib/axes/_axes.py:6462: UserWarning: The 'normed' kwarg is deprecated, and has been replaced by the 'density' kwarg.\n",
      "  warnings.warn(\"The 'normed' kwarg is deprecated, and has been \"\n"
     ]
    },
    {
     "data": {
      "text/plain": [
       "Text(0,0.5,'frequency')"
      ]
     },
     "execution_count": 23,
     "metadata": {},
     "output_type": "execute_result"
    },
    {
     "data": {
      "image/png": "[encoded data removed]",
      "text/plain": [
       "<Figure size 432x288 with 1 Axes>"
      ]
     },
     "metadata": {},
     "output_type": "display_data"
    }
   ],
   "source": [
    "import seaborn as sns\n",
    "import matplotlib.pyplot as plt\n",
    "%matplotlib inline\n",
    "sns.distplot(data[\"word_count\"],bins=50,kde=False)\n",
    "plt.xlabel(\"word_count\")\n",
    "plt.ylabel(\"frequency\")"
   ]
  },
  {
   "cell_type": "code",
   "execution_count": 24,
   "metadata": {},
   "outputs": [],
   "source": [
    "del(data[\"word_count\"])"
   ]
  },
  {
   "cell_type": "markdown",
   "metadata": {},
   "source": [
    "## Number of characters"
   ]
  },
  {
   "cell_type": "code",
   "execution_count": 26,
   "metadata": {},
   "outputs": [
    {
     "data": {
      "text/html": [
       "<div>\n",
       "<style scoped>\n",
       "    .dataframe tbody tr th:only-of-type {\n",
       "        vertical-align: middle;\n",
       "    }\n",
       "\n",
       "    .dataframe tbody tr th {\n",
       "        vertical-align: top;\n",
       "    }\n",
       "\n",
       "    .dataframe thead th {\n",
       "        text-align: right;\n",
       "    }\n",
       "</style>\n",
       "<table border=\"1\" class=\"dataframe\">\n",
       "  <thead>\n",
       "    <tr style=\"text-align: right;\">\n",
       "      <th></th>\n",
       "      <th>review</th>\n",
       "      <th>char_count</th>\n",
       "    </tr>\n",
       "  </thead>\n",
       "  <tbody>\n",
       "    <tr>\n",
       "      <th>0</th>\n",
       "      <td>i would like give shout sf fire credit union n...</td>\n",
       "      <td>617</td>\n",
       "    </tr>\n",
       "    <tr>\n",
       "      <th>1</th>\n",
       "      <td>poor future commission merchant muddyouter spa...</td>\n",
       "      <td>1413</td>\n",
       "    </tr>\n",
       "    <tr>\n",
       "      <th>2</th>\n",
       "      <td>they charge 25 courtesy fee go balance not fir...</td>\n",
       "      <td>250</td>\n",
       "    </tr>\n",
       "    <tr>\n",
       "      <th>3</th>\n",
       "      <td>i changed credit union i wanted support local ...</td>\n",
       "      <td>314</td>\n",
       "    </tr>\n",
       "    <tr>\n",
       "      <th>4</th>\n",
       "      <td>i used recommend sffire friend got several joi...</td>\n",
       "      <td>339</td>\n",
       "    </tr>\n",
       "    <tr>\n",
       "      <th>5</th>\n",
       "      <td>i credit union 25 year unfortunately recent ye...</td>\n",
       "      <td>465</td>\n",
       "    </tr>\n",
       "    <tr>\n",
       "      <th>6</th>\n",
       "      <td>i banking sffcu 20 year past couple year servi...</td>\n",
       "      <td>574</td>\n",
       "    </tr>\n",
       "    <tr>\n",
       "      <th>7</th>\n",
       "      <td>used really really good now left hand doesnt k...</td>\n",
       "      <td>227</td>\n",
       "    </tr>\n",
       "    <tr>\n",
       "      <th>8</th>\n",
       "      <td>red flagif use half credit close credit little...</td>\n",
       "      <td>54</td>\n",
       "    </tr>\n",
       "    <tr>\n",
       "      <th>9</th>\n",
       "      <td>what follows verbatim feedback i sent manageme...</td>\n",
       "      <td>1296</td>\n",
       "    </tr>\n",
       "  </tbody>\n",
       "</table>\n",
       "</div>"
      ],
      "text/plain": [
       "                                              review  char_count\n",
       "0  i would like give shout sf fire credit union n...         617\n",
       "1  poor future commission merchant muddyouter spa...        1413\n",
       "2  they charge 25 courtesy fee go balance not fir...         250\n",
       "3  i changed credit union i wanted support local ...         314\n",
       "4  i used recommend sffire friend got several joi...         339\n",
       "5  i credit union 25 year unfortunately recent ye...         465\n",
       "6  i banking sffcu 20 year past couple year servi...         574\n",
       "7  used really really good now left hand doesnt k...         227\n",
       "8  red flagif use half credit close credit little...          54\n",
       "9  what follows verbatim feedback i sent manageme...        1296"
      ]
     },
     "execution_count": 26,
     "metadata": {},
     "output_type": "execute_result"
    }
   ],
   "source": [
    "data['char_count'] = data['review'].str.len() ## this also includes spaces\n",
    "data[['review','char_count']].head(10)"
   ]
  },
  {
   "cell_type": "code",
   "execution_count": 27,
   "metadata": {},
   "outputs": [
    {
     "name": "stderr",
     "output_type": "stream",
     "text": [
      "/home/skull/anaconda3/lib/python3.6/site-packages/matplotlib/axes/_axes.py:6462: UserWarning: The 'normed' kwarg is deprecated, and has been replaced by the 'density' kwarg.\n",
      "  warnings.warn(\"The 'normed' kwarg is deprecated, and has been \"\n"
     ]
    },
    {
     "data": {
      "text/plain": [
       "Text(0,0.5,'frequency')"
      ]
     },
     "execution_count": 27,
     "metadata": {},
     "output_type": "execute_result"
    },
    {
     "data": {
      "image/png": "[encoded data removed]",
      "text/plain": [
       "<Figure size 432x288 with 1 Axes>"
      ]
     },
     "metadata": {},
     "output_type": "display_data"
    }
   ],
   "source": [
    "import seaborn as sns\n",
    "import matplotlib.pyplot as plt\n",
    "%matplotlib inline\n",
    "sns.distplot(data[\"char_count\"],bins=50,kde=False)\n",
    "plt.xlabel(\"char_count\")\n",
    "plt.ylabel(\"frequency\")"
   ]
  },
  {
   "cell_type": "code",
   "execution_count": 28,
   "metadata": {},
   "outputs": [],
   "source": [
    "del(data[\"char_count\"])"
   ]
  },
  {
   "cell_type": "markdown",
   "metadata": {},
   "source": [
    "## Average Word Length"
   ]
  },
  {
   "cell_type": "code",
   "execution_count": 29,
   "metadata": {},
   "outputs": [
    {
     "data": {
      "text/html": [
       "<div>\n",
       "<style scoped>\n",
       "    .dataframe tbody tr th:only-of-type {\n",
       "        vertical-align: middle;\n",
       "    }\n",
       "\n",
       "    .dataframe tbody tr th {\n",
       "        vertical-align: top;\n",
       "    }\n",
       "\n",
       "    .dataframe thead th {\n",
       "        text-align: right;\n",
       "    }\n",
       "</style>\n",
       "<table border=\"1\" class=\"dataframe\">\n",
       "  <thead>\n",
       "    <tr style=\"text-align: right;\">\n",
       "      <th></th>\n",
       "      <th>review</th>\n",
       "      <th>avg_word</th>\n",
       "    </tr>\n",
       "  </thead>\n",
       "  <tbody>\n",
       "    <tr>\n",
       "      <th>0</th>\n",
       "      <td>i would like give shout sf fire credit union n...</td>\n",
       "      <td>5.180000</td>\n",
       "    </tr>\n",
       "    <tr>\n",
       "      <th>1</th>\n",
       "      <td>poor future commission merchant muddyouter spa...</td>\n",
       "      <td>7.467066</td>\n",
       "    </tr>\n",
       "    <tr>\n",
       "      <th>2</th>\n",
       "      <td>they charge 25 courtesy fee go balance not fir...</td>\n",
       "      <td>4.704545</td>\n",
       "    </tr>\n",
       "    <tr>\n",
       "      <th>3</th>\n",
       "      <td>i changed credit union i wanted support local ...</td>\n",
       "      <td>5.562500</td>\n",
       "    </tr>\n",
       "    <tr>\n",
       "      <th>4</th>\n",
       "      <td>i used recommend sffire friend got several joi...</td>\n",
       "      <td>5.938776</td>\n",
       "    </tr>\n",
       "    <tr>\n",
       "      <th>5</th>\n",
       "      <td>i credit union 25 year unfortunately recent ye...</td>\n",
       "      <td>6.281250</td>\n",
       "    </tr>\n",
       "    <tr>\n",
       "      <th>6</th>\n",
       "      <td>i banking sffcu 20 year past couple year servi...</td>\n",
       "      <td>5.250000</td>\n",
       "    </tr>\n",
       "    <tr>\n",
       "      <th>7</th>\n",
       "      <td>used really really good now left hand doesnt k...</td>\n",
       "      <td>5.705882</td>\n",
       "    </tr>\n",
       "    <tr>\n",
       "      <th>8</th>\n",
       "      <td>red flagif use half credit close credit little...</td>\n",
       "      <td>5.111111</td>\n",
       "    </tr>\n",
       "    <tr>\n",
       "      <th>9</th>\n",
       "      <td>what follows verbatim feedback i sent manageme...</td>\n",
       "      <td>5.685567</td>\n",
       "    </tr>\n",
       "  </tbody>\n",
       "</table>\n",
       "</div>"
      ],
      "text/plain": [
       "                                              review  avg_word\n",
       "0  i would like give shout sf fire credit union n...  5.180000\n",
       "1  poor future commission merchant muddyouter spa...  7.467066\n",
       "2  they charge 25 courtesy fee go balance not fir...  4.704545\n",
       "3  i changed credit union i wanted support local ...  5.562500\n",
       "4  i used recommend sffire friend got several joi...  5.938776\n",
       "5  i credit union 25 year unfortunately recent ye...  6.281250\n",
       "6  i banking sffcu 20 year past couple year servi...  5.250000\n",
       "7  used really really good now left hand doesnt k...  5.705882\n",
       "8  red flagif use half credit close credit little...  5.111111\n",
       "9  what follows verbatim feedback i sent manageme...  5.685567"
      ]
     },
     "execution_count": 29,
     "metadata": {},
     "output_type": "execute_result"
    }
   ],
   "source": [
    "def avg_word(sentence):\n",
    "  words = sentence.split()\n",
    "  return (sum(len(word) for word in words)/len(words))\n",
    "\n",
    "data['avg_word'] = data['review'].apply(lambda x: avg_word(x))\n",
    "data[['review','avg_word']].head(10)"
   ]
  },
  {
   "cell_type": "code",
   "execution_count": 30,
   "metadata": {},
   "outputs": [
    {
     "name": "stderr",
     "output_type": "stream",
     "text": [
      "/home/skull/anaconda3/lib/python3.6/site-packages/matplotlib/axes/_axes.py:6462: UserWarning: The 'normed' kwarg is deprecated, and has been replaced by the 'density' kwarg.\n",
      "  warnings.warn(\"The 'normed' kwarg is deprecated, and has been \"\n"
     ]
    },
    {
     "data": {
      "text/plain": [
       "Text(0,0.5,'frequency')"
      ]
     },
     "execution_count": 30,
     "metadata": {},
     "output_type": "execute_result"
    },
    {
     "data": {
      "image/png": "[encoded data removed]",
      "text/plain": [
       "<Figure size 432x288 with 1 Axes>"
      ]
     },
     "metadata": {},
     "output_type": "display_data"
    }
   ],
   "source": [
    "import seaborn as sns\n",
    "import matplotlib.pyplot as plt\n",
    "%matplotlib inline\n",
    "sns.distplot(data[\"avg_word\"],bins=50,kde=False)\n",
    "plt.xlabel(\"avg_word\")\n",
    "plt.ylabel(\"frequency\")"
   ]
  },
  {
   "cell_type": "code",
   "execution_count": 31,
   "metadata": {},
   "outputs": [],
   "source": [
    "del(data[\"avg_word\"])"
   ]
  },
  {
   "cell_type": "markdown",
   "metadata": {},
   "source": [
    "## Rare words"
   ]
  },
  {
   "cell_type": "code",
   "execution_count": 34,
   "metadata": {},
   "outputs": [
    {
     "data": {
      "text/plain": [
       "aspect        1\n",
       "jipped        1\n",
       "designated    1\n",
       "informed      1\n",
       "sucker        1\n",
       "knocked       1\n",
       "sffcuwhat     1\n",
       "involved      1\n",
       "rush          1\n",
       "unforeseen    1\n",
       "dtype: int64"
      ]
     },
     "execution_count": 34,
     "metadata": {},
     "output_type": "execute_result"
    }
   ],
   "source": [
    "freq = pd.Series(' '.join(data['review']).split()).value_counts()[-10:]\n",
    "freq"
   ]
  },
  {
   "cell_type": "markdown",
   "metadata": {},
   "source": [
    "### remove rarely occurring words from the text. Because they’re so rare, the association between them and other words is dominated by noise"
   ]
  },
  {
   "cell_type": "code",
   "execution_count": 35,
   "metadata": {},
   "outputs": [
    {
     "data": {
      "text/html": [
       "<div>\n",
       "<style scoped>\n",
       "    .dataframe tbody tr th:only-of-type {\n",
       "        vertical-align: middle;\n",
       "    }\n",
       "\n",
       "    .dataframe tbody tr th {\n",
       "        vertical-align: top;\n",
       "    }\n",
       "\n",
       "    .dataframe thead th {\n",
       "        text-align: right;\n",
       "    }\n",
       "</style>\n",
       "<table border=\"1\" class=\"dataframe\">\n",
       "  <thead>\n",
       "    <tr style=\"text-align: right;\">\n",
       "      <th></th>\n",
       "      <th>review</th>\n",
       "      <th>rating</th>\n",
       "    </tr>\n",
       "  </thead>\n",
       "  <tbody>\n",
       "    <tr>\n",
       "      <th>0</th>\n",
       "      <td>i would like give shout sf fire credit union n...</td>\n",
       "      <td>5</td>\n",
       "    </tr>\n",
       "    <tr>\n",
       "      <th>1</th>\n",
       "      <td>poor future commission merchant muddyouter spa...</td>\n",
       "      <td>3</td>\n",
       "    </tr>\n",
       "    <tr>\n",
       "      <th>2</th>\n",
       "      <td>they charge 25 courtesy fee go balance not fir...</td>\n",
       "      <td>1</td>\n",
       "    </tr>\n",
       "    <tr>\n",
       "      <th>3</th>\n",
       "      <td>i changed credit union i wanted support local ...</td>\n",
       "      <td>1</td>\n",
       "    </tr>\n",
       "    <tr>\n",
       "      <th>4</th>\n",
       "      <td>i used recommend sffire friend got several joi...</td>\n",
       "      <td>2</td>\n",
       "    </tr>\n",
       "  </tbody>\n",
       "</table>\n",
       "</div>"
      ],
      "text/plain": [
       "                                              review  rating\n",
       "0  i would like give shout sf fire credit union n...       5\n",
       "1  poor future commission merchant muddyouter spa...       3\n",
       "2  they charge 25 courtesy fee go balance not fir...       1\n",
       "3  i changed credit union i wanted support local ...       1\n",
       "4  i used recommend sffire friend got several joi...       2"
      ]
     },
     "execution_count": 35,
     "metadata": {},
     "output_type": "execute_result"
    }
   ],
   "source": [
    "freq = list(freq.index)\n",
    "data['review'] = data['review'].apply(lambda x: \" \".join(x for x in x.split() if x not in freq))\n",
    "data.head()"
   ]
  },
  {
   "cell_type": "code",
   "execution_count": 57,
   "metadata": {},
   "outputs": [
    {
     "name": "stderr",
     "output_type": "stream",
     "text": [
      "/home/skull/anaconda3/lib/python3.6/site-packages/matplotlib/axes/_axes.py:6462: UserWarning: The 'normed' kwarg is deprecated, and has been replaced by the 'density' kwarg.\n",
      "  warnings.warn(\"The 'normed' kwarg is deprecated, and has been \"\n"
     ]
    },
    {
     "data": {
      "text/plain": [
       "Text(0,0.5,'frequecy')"
      ]
     },
     "execution_count": 57,
     "metadata": {},
     "output_type": "execute_result"
    },
    {
     "data": {
      "image/png": "[encoded data removed]",
      "text/plain": [
       "<Figure size 432x288 with 1 Axes>"
      ]
     },
     "metadata": {},
     "output_type": "display_data"
    }
   ],
   "source": [
    "sns.distplot(data[\"rating\"],kde=False,bins=10)\n",
    "plt.xlabel(\"rating\")\n",
    "plt.ylabel(\"frequecy\")"
   ]
  },
  {
   "cell_type": "markdown",
   "metadata": {},
   "source": [
    "## N-grams"
   ]
  },
  {
   "cell_type": "code",
   "execution_count": 40,
   "metadata": {
    "scrolled": true
   },
   "outputs": [
    {
     "data": {
      "text/plain": [
       "[WordList(['i', 'would']),\n",
       " WordList(['would', 'like']),\n",
       " WordList(['like', 'give']),\n",
       " WordList(['give', 'shout']),\n",
       " WordList(['shout', 'sf']),\n",
       " WordList(['sf', 'fire']),\n",
       " WordList(['fire', 'credit']),\n",
       " WordList(['credit', 'union']),\n",
       " WordList(['union', 'note']),\n",
       " WordList(['note', 'im']),\n",
       " WordList(['im', 'real']),\n",
       " WordList(['real', 'estate']),\n",
       " WordList(['estate', 'industry']),\n",
       " WordList(['industry', 'ive']),\n",
       " WordList(['ive', 'worked']),\n",
       " WordList(['worked', 'number']),\n",
       " WordList(['number', 'bank']),\n",
       " WordList(['bank', 'credit']),\n",
       " WordList(['credit', 'union']),\n",
       " WordList(['union', 'these']),\n",
       " WordList(['these', 'guy']),\n",
       " WordList(['guy', 'easy']),\n",
       " WordList(['easy', 'work']),\n",
       " WordList(['work', 'get']),\n",
       " WordList(['get', 'thing']),\n",
       " WordList(['thing', 'done']),\n",
       " WordList(['done', 'timely']),\n",
       " WordList(['timely', 'manor']),\n",
       " WordList(['manor', 'call']),\n",
       " WordList(['call', 'always']),\n",
       " WordList(['always', 'someone']),\n",
       " WordList(['someone', 'available']),\n",
       " WordList(['available', 'pick']),\n",
       " WordList(['pick', 'phone']),\n",
       " WordList(['phone', 'talk']),\n",
       " WordList(['talk', 'whatever']),\n",
       " WordList(['whatever', 'need']),\n",
       " WordList(['need', 'very']),\n",
       " WordList(['very', 'personal']),\n",
       " WordList(['personal', 'i']),\n",
       " WordList(['i', 'applied']),\n",
       " WordList(['applied', 'equity']),\n",
       " WordList(['equity', 'line']),\n",
       " WordList(['line', 'credit']),\n",
       " WordList(['credit', 'property']),\n",
       " WordList(['property', 'i']),\n",
       " WordList(['i', 'called']),\n",
       " WordList(['called', 'told']),\n",
       " WordList(['told', 'i']),\n",
       " WordList(['i', 'hated']),\n",
       " WordList(['hated', 'filling']),\n",
       " WordList(['filling', 'application']),\n",
       " WordList(['application', 'said']),\n",
       " WordList(['said', 'problem']),\n",
       " WordList(['problem', 'spent']),\n",
       " WordList(['spent', 'hr']),\n",
       " WordList(['hr', 'phone']),\n",
       " WordList(['phone', 'i']),\n",
       " WordList(['i', 'submitted']),\n",
       " WordList(['submitted', 'document']),\n",
       " WordList(['document', 'within']),\n",
       " WordList(['within', '1']),\n",
       " WordList(['1', 'week']),\n",
       " WordList(['week', 'called']),\n",
       " WordList(['called', 'back']),\n",
       " WordList(['back', 'i']),\n",
       " WordList(['i', 'approved']),\n",
       " WordList(['approved', 'done']),\n",
       " WordList(['done', 'ready']),\n",
       " WordList(['ready', 'go']),\n",
       " WordList(['go', 'like']),\n",
       " WordList(['like', 'superior']),\n",
       " WordList(['superior', 'service']),\n",
       " WordList(['service', 'bank']),\n",
       " WordList(['bank', 'ive']),\n",
       " WordList(['ive', 'dealt']),\n",
       " WordList(['dealt', 'my']),\n",
       " WordList(['my', 'contact']),\n",
       " WordList(['contact', 'rashida']),\n",
       " WordList(['rashida', 'rencher']),\n",
       " WordList(['rencher', '14153455421']),\n",
       " WordList(['14153455421', 'rrenchersffirecuorg']),\n",
       " WordList(['rrenchersffirecuorg', 'she']),\n",
       " WordList(['she', 'great']),\n",
       " WordList(['great', 'work']),\n",
       " WordList(['work', 'knowledgeable']),\n",
       " WordList(['knowledgeable', 'fun']),\n",
       " WordList(['fun', 'polite']),\n",
       " WordList(['polite', 'professional']),\n",
       " WordList(['professional', 'put']),\n",
       " WordList(['put', 'question']),\n",
       " WordList(['question', 'i']),\n",
       " WordList(['i', 'continue']),\n",
       " WordList(['continue', 'business']),\n",
       " WordList(['business', 'day']),\n",
       " WordList(['day', 'cu']),\n",
       " WordList(['cu', 'line']),\n",
       " WordList(['line', 'credit']),\n",
       " WordList(['credit', 'need'])]"
      ]
     },
     "execution_count": 40,
     "metadata": {},
     "output_type": "execute_result"
    }
   ],
   "source": [
    "#bigrams\n",
    "TextBlob(data['review'][0]).ngrams(2)"
   ]
  },
  {
   "cell_type": "code",
   "execution_count": 42,
   "metadata": {
    "scrolled": true
   },
   "outputs": [
    {
     "data": {
      "text/plain": [
       "[WordList(['i', 'would', 'like']),\n",
       " WordList(['would', 'like', 'give']),\n",
       " WordList(['like', 'give', 'shout']),\n",
       " WordList(['give', 'shout', 'sf']),\n",
       " WordList(['shout', 'sf', 'fire']),\n",
       " WordList(['sf', 'fire', 'credit']),\n",
       " WordList(['fire', 'credit', 'union']),\n",
       " WordList(['credit', 'union', 'note']),\n",
       " WordList(['union', 'note', 'im']),\n",
       " WordList(['note', 'im', 'real']),\n",
       " WordList(['im', 'real', 'estate']),\n",
       " WordList(['real', 'estate', 'industry']),\n",
       " WordList(['estate', 'industry', 'ive']),\n",
       " WordList(['industry', 'ive', 'worked']),\n",
       " WordList(['ive', 'worked', 'number']),\n",
       " WordList(['worked', 'number', 'bank']),\n",
       " WordList(['number', 'bank', 'credit']),\n",
       " WordList(['bank', 'credit', 'union']),\n",
       " WordList(['credit', 'union', 'these']),\n",
       " WordList(['union', 'these', 'guy']),\n",
       " WordList(['these', 'guy', 'easy']),\n",
       " WordList(['guy', 'easy', 'work']),\n",
       " WordList(['easy', 'work', 'get']),\n",
       " WordList(['work', 'get', 'thing']),\n",
       " WordList(['get', 'thing', 'done']),\n",
       " WordList(['thing', 'done', 'timely']),\n",
       " WordList(['done', 'timely', 'manor']),\n",
       " WordList(['timely', 'manor', 'call']),\n",
       " WordList(['manor', 'call', 'always']),\n",
       " WordList(['call', 'always', 'someone']),\n",
       " WordList(['always', 'someone', 'available']),\n",
       " WordList(['someone', 'available', 'pick']),\n",
       " WordList(['available', 'pick', 'phone']),\n",
       " WordList(['pick', 'phone', 'talk']),\n",
       " WordList(['phone', 'talk', 'whatever']),\n",
       " WordList(['talk', 'whatever', 'need']),\n",
       " WordList(['whatever', 'need', 'very']),\n",
       " WordList(['need', 'very', 'personal']),\n",
       " WordList(['very', 'personal', 'i']),\n",
       " WordList(['personal', 'i', 'applied']),\n",
       " WordList(['i', 'applied', 'equity']),\n",
       " WordList(['applied', 'equity', 'line']),\n",
       " WordList(['equity', 'line', 'credit']),\n",
       " WordList(['line', 'credit', 'property']),\n",
       " WordList(['credit', 'property', 'i']),\n",
       " WordList(['property', 'i', 'called']),\n",
       " WordList(['i', 'called', 'told']),\n",
       " WordList(['called', 'told', 'i']),\n",
       " WordList(['told', 'i', 'hated']),\n",
       " WordList(['i', 'hated', 'filling']),\n",
       " WordList(['hated', 'filling', 'application']),\n",
       " WordList(['filling', 'application', 'said']),\n",
       " WordList(['application', 'said', 'problem']),\n",
       " WordList(['said', 'problem', 'spent']),\n",
       " WordList(['problem', 'spent', 'hr']),\n",
       " WordList(['spent', 'hr', 'phone']),\n",
       " WordList(['hr', 'phone', 'i']),\n",
       " WordList(['phone', 'i', 'submitted']),\n",
       " WordList(['i', 'submitted', 'document']),\n",
       " WordList(['submitted', 'document', 'within']),\n",
       " WordList(['document', 'within', '1']),\n",
       " WordList(['within', '1', 'week']),\n",
       " WordList(['1', 'week', 'called']),\n",
       " WordList(['week', 'called', 'back']),\n",
       " WordList(['called', 'back', 'i']),\n",
       " WordList(['back', 'i', 'approved']),\n",
       " WordList(['i', 'approved', 'done']),\n",
       " WordList(['approved', 'done', 'ready']),\n",
       " WordList(['done', 'ready', 'go']),\n",
       " WordList(['ready', 'go', 'like']),\n",
       " WordList(['go', 'like', 'superior']),\n",
       " WordList(['like', 'superior', 'service']),\n",
       " WordList(['superior', 'service', 'bank']),\n",
       " WordList(['service', 'bank', 'ive']),\n",
       " WordList(['bank', 'ive', 'dealt']),\n",
       " WordList(['ive', 'dealt', 'my']),\n",
       " WordList(['dealt', 'my', 'contact']),\n",
       " WordList(['my', 'contact', 'rashida']),\n",
       " WordList(['contact', 'rashida', 'rencher']),\n",
       " WordList(['rashida', 'rencher', '14153455421']),\n",
       " WordList(['rencher', '14153455421', 'rrenchersffirecuorg']),\n",
       " WordList(['14153455421', 'rrenchersffirecuorg', 'she']),\n",
       " WordList(['rrenchersffirecuorg', 'she', 'great']),\n",
       " WordList(['she', 'great', 'work']),\n",
       " WordList(['great', 'work', 'knowledgeable']),\n",
       " WordList(['work', 'knowledgeable', 'fun']),\n",
       " WordList(['knowledgeable', 'fun', 'polite']),\n",
       " WordList(['fun', 'polite', 'professional']),\n",
       " WordList(['polite', 'professional', 'put']),\n",
       " WordList(['professional', 'put', 'question']),\n",
       " WordList(['put', 'question', 'i']),\n",
       " WordList(['question', 'i', 'continue']),\n",
       " WordList(['i', 'continue', 'business']),\n",
       " WordList(['continue', 'business', 'day']),\n",
       " WordList(['business', 'day', 'cu']),\n",
       " WordList(['day', 'cu', 'line']),\n",
       " WordList(['cu', 'line', 'credit']),\n",
       " WordList(['line', 'credit', 'need'])]"
      ]
     },
     "execution_count": 42,
     "metadata": {},
     "output_type": "execute_result"
    }
   ],
   "source": [
    "#trigrams\n",
    "TextBlob(data['review'][0]).ngrams(3)"
   ]
  },
  {
   "cell_type": "markdown",
   "metadata": {},
   "source": [
    "## Naive Bayes Model"
   ]
  },
  {
   "cell_type": "code",
   "execution_count": 44,
   "metadata": {},
   "outputs": [],
   "source": [
    "X=data[\"review\"]\n",
    "y=data[\"rating\"]"
   ]
  },
  {
   "cell_type": "code",
   "execution_count": 47,
   "metadata": {},
   "outputs": [],
   "source": [
    "from sklearn.feature_extraction.text import CountVectorizer\n",
    "from sklearn.naive_bayes import MultinomialNB\n",
    "vectorizer = CountVectorizer()\n",
    "counts = vectorizer.fit_transform(X.values)\n",
    "targets = y.values"
   ]
  },
  {
   "cell_type": "code",
   "execution_count": 49,
   "metadata": {},
   "outputs": [],
   "source": [
    "from sklearn.model_selection import train_test_split\n",
    "X_train, X_test, y_train, y_test = train_test_split(counts, targets, test_size=0.30)"
   ]
  },
  {
   "cell_type": "code",
   "execution_count": 50,
   "metadata": {},
   "outputs": [
    {
     "data": {
      "text/plain": [
       "MultinomialNB(alpha=1.0, class_prior=None, fit_prior=True)"
      ]
     },
     "execution_count": 50,
     "metadata": {},
     "output_type": "execute_result"
    }
   ],
   "source": [
    "classifier = MultinomialNB()\n",
    "classifier.fit(X_train, y_train)"
   ]
  },
  {
   "cell_type": "code",
   "execution_count": 51,
   "metadata": {},
   "outputs": [],
   "source": [
    "pred=classifier.predict(X_test)"
   ]
  },
  {
   "cell_type": "code",
   "execution_count": 52,
   "metadata": {},
   "outputs": [],
   "source": [
    "from sklearn.metrics import accuracy_score,confusion_matrix"
   ]
  },
  {
   "cell_type": "code",
   "execution_count": 53,
   "metadata": {},
   "outputs": [
    {
     "name": "stdout",
     "output_type": "stream",
     "text": [
      "0.8\n"
     ]
    }
   ],
   "source": [
    "print(accuracy_score(pred,y_test))"
   ]
  },
  {
   "cell_type": "code",
   "execution_count": null,
   "metadata": {},
   "outputs": [],
   "source": []
  }
 ],
 "metadata": {
  "accelerator": "GPU",
  "colab": {
   "collapsed_sections": [],
   "name": "Untitled4.ipynb",
   "provenance": [],
   "version": "0.3.2"
  },
  "kernelspec": {
   "display_name": "Python 3",
   "language": "python",
   "name": "python3"
  },
  "language_info": {
   "codemirror_mode": {
    "name": "ipython",
    "version": 3
   },
   "file_extension": ".py",
   "mimetype": "text/x-python",
   "name": "python",
   "nbconvert_exporter": "python",
   "pygments_lexer": "ipython3",
   "version": "3.7.1"
  }
 },
 "nbformat": 4,
 "nbformat_minor": 1
}
